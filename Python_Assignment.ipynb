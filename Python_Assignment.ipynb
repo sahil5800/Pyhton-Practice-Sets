{
 "cells": [
  {
   "cell_type": "code",
   "execution_count": 9,
   "id": "11b75974",
   "metadata": {},
   "outputs": [
    {
     "name": "stdout",
     "output_type": "stream",
     "text": [
      "2\n"
     ]
    }
   ],
   "source": [
    "def smallest_number(list,k):\n",
    "    new_list=[]\n",
    "    while list:\n",
    "        min = list[0]\n",
    "        for i in list:\n",
    "            if i<min:\n",
    "                min=i\n",
    "        new_list.append(min)\n",
    "        list.remove(min)\n",
    "    return new_list[k-1]\n",
    "print(smallest_number([1,6,2,7,9,10,32,21,51,61], 2))\n"
   ]
  },
  {
   "cell_type": "code",
   "execution_count": 10,
   "id": "fbf1c629",
   "metadata": {},
   "outputs": [
    {
     "name": "stdout",
     "output_type": "stream",
     "text": [
      "51\n"
     ]
    }
   ],
   "source": [
    "def highest_number(list,k):\n",
    "    new_list=[]\n",
    "    while list:\n",
    "        min = list[0]\n",
    "        for i in list:\n",
    "            if i<min:\n",
    "                min=i\n",
    "        new_list.append(min)\n",
    "        list.remove(min)\n",
    "    return new_list[-k]\n",
    "print(highest_number([1,6,2,7,9,10,32,21,51,61], 2))"
   ]
  },
  {
   "cell_type": "code",
   "execution_count": null,
   "id": "243f2184",
   "metadata": {},
   "outputs": [],
   "source": []
  }
 ],
 "metadata": {
  "kernelspec": {
   "display_name": "Python 3",
   "language": "python",
   "name": "python3"
  },
  "language_info": {
   "codemirror_mode": {
    "name": "ipython",
    "version": 3
   },
   "file_extension": ".py",
   "mimetype": "text/x-python",
   "name": "python",
   "nbconvert_exporter": "python",
   "pygments_lexer": "ipython3",
   "version": "3.8.8"
  }
 },
 "nbformat": 4,
 "nbformat_minor": 5
}
