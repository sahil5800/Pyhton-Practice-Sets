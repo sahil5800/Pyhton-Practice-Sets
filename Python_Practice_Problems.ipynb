{
 "cells": [
  {
   "cell_type": "code",
   "execution_count": 1,
   "id": "38ad5fdb",
   "metadata": {},
   "outputs": [
    {
     "name": "stdout",
     "output_type": "stream",
     "text": [
      "21\n",
      "13.048791\n"
     ]
    }
   ],
   "source": [
    "#Python Program to Convert Kilometers to Miles\n",
    "def convert(num):\n",
    "    ans = num * 0.621371\n",
    "    return ans\n",
    "print(convert(int(input())))"
   ]
  },
  {
   "cell_type": "code",
   "execution_count": 2,
   "id": "9a9675c7",
   "metadata": {},
   "outputs": [
    {
     "name": "stdout",
     "output_type": "stream",
     "text": [
      "13\n",
      "55.4\n"
     ]
    }
   ],
   "source": [
    "#Python Program to Convert Celsius To Fahrenheit\n",
    "def convert2(num):\n",
    "    ans2 = (num * 9/5) + 32\n",
    "    return ans2\n",
    "print(convert2(int(input())))\n"
   ]
  },
  {
   "cell_type": "code",
   "execution_count": 6,
   "id": "4f686e74",
   "metadata": {},
   "outputs": [
    {
     "name": "stdout",
     "output_type": "stream",
     "text": [
      "-5\n",
      "then number is negetive\n"
     ]
    }
   ],
   "source": [
    "#Python Program to Check if a Number is Positive, Negative or 0\n",
    "i = int(input())\n",
    "if i == 0:\n",
    "    print(\"number is equal to 0\")\n",
    "elif i>0:\n",
    "    print(\"number is positive\")\n",
    "else:\n",
    "    print(\"then number is negetive\")"
   ]
  },
  {
   "cell_type": "code",
   "execution_count": 8,
   "id": "82d2d22d",
   "metadata": {},
   "outputs": [
    {
     "name": "stdout",
     "output_type": "stream",
     "text": [
      "22\n",
      "number is even\n"
     ]
    }
   ],
   "source": [
    "#Python Program to Check if a Number is Odd or Even\n",
    "k = int(input())\n",
    "if k%2==0:\n",
    "    print(\"number is even\")\n",
    "else: \n",
    "    print(\"number is odd\")"
   ]
  },
  {
   "cell_type": "code",
   "execution_count": 5,
   "id": "69480ec8",
   "metadata": {},
   "outputs": [
    {
     "name": "stdout",
     "output_type": "stream",
     "text": [
      "2024\n",
      "leap\n"
     ]
    }
   ],
   "source": [
    "#Python Program to Check Leap Year\n",
    "year = int(input())\n",
    "if year%4 == 0 and year%100 != 0 or year%4 == 400:\n",
    "    print(\"leap\")\n",
    "else:\n",
    "    print(\"not leap\")\n",
    "    "
   ]
  },
  {
   "cell_type": "code",
   "execution_count": 10,
   "id": "741a02d7",
   "metadata": {},
   "outputs": [
    {
     "name": "stdout",
     "output_type": "stream",
     "text": [
      "3 2 1\n",
      "a is largest\n"
     ]
    }
   ],
   "source": [
    "#Python Program to Find the Largest Among Three Numbers\n",
    "a, b, c =map(int, input().split())\n",
    "if a>b:\n",
    "    if a>c:\n",
    "        print(\"a is largest\")\n",
    "    else:\n",
    "        print(\" c is largest\")\n",
    "elif b>c:\n",
    "    print(\"b is largest\")\n",
    "else:\n",
    "    print(\"c is largest\")"
   ]
  },
  {
   "cell_type": "code",
   "execution_count": 17,
   "id": "142b45f5",
   "metadata": {},
   "outputs": [
    {
     "name": "stdout",
     "output_type": "stream",
     "text": [
      "pls enter the number here:13\n",
      "prime\n"
     ]
    }
   ],
   "source": [
    "#Write a Python Program to check if a number is prime or not\n",
    "num = int(input(\"pls enter the number here:\"))\n",
    "case = True\n",
    "for i in range(2, num):\n",
    "    \n",
    "    if num%i == 0 :\n",
    "        case = False\n",
    "if case:\n",
    "    print(\"prime\")\n",
    "else:\n",
    "    print(\"not prime\")"
   ]
  },
  {
   "cell_type": "code",
   "execution_count": 22,
   "id": "3481f184",
   "metadata": {},
   "outputs": [
    {
     "name": "stdout",
     "output_type": "stream",
     "text": [
      "11\n",
      "1\n",
      "2\n",
      "3\n",
      "5\n",
      "7\n"
     ]
    }
   ],
   "source": [
    "#Python program to display all the prime numbers within an interval\n",
    "def check(num):\n",
    "    case = True\n",
    "    for k in range(2, num):\n",
    "        if num%k == 0 :\n",
    "            case = False\n",
    "    return case\n",
    "for i in range(1, int(input())):\n",
    "    if check(i):\n",
    "        print(i)\n",
    "    "
   ]
  },
  {
   "cell_type": "code",
   "execution_count": 24,
   "id": "4bbe76d8",
   "metadata": {},
   "outputs": [
    {
     "name": "stdout",
     "output_type": "stream",
     "text": [
      "7\n",
      "5040\n"
     ]
    }
   ],
   "source": [
    "#Python program to find the factorial of a number.\n",
    "num = int(input())\n",
    "answer=1\n",
    "while num > 0:\n",
    "    answer*=num\n",
    "    \n",
    "    num-=1\n",
    "print(answer)"
   ]
  },
  {
   "cell_type": "code",
   "execution_count": 1,
   "id": "3c97bb1a",
   "metadata": {},
   "outputs": [
    {
     "name": "stdout",
     "output_type": "stream",
     "text": [
      "5\n",
      "5\n",
      "10\n",
      "15\n",
      "20\n",
      "25\n",
      "30\n",
      "35\n",
      "40\n",
      "45\n",
      "50\n"
     ]
    }
   ],
   "source": [
    "#Python Program to Display the multiplication Table\n",
    "num1 = int(input())\n",
    "for i in range(1,11):\n",
    "    print(num1*i)"
   ]
  },
  {
   "cell_type": "code",
   "execution_count": 35,
   "id": "1eb0a592",
   "metadata": {},
   "outputs": [
    {
     "name": "stdout",
     "output_type": "stream",
     "text": [
      "406\n",
      "this is not an armstrong number\n"
     ]
    }
   ],
   "source": [
    "#Python Program to Check Armstrong Number (for 3 digits)\n",
    "def sqcube(num):\n",
    "    list= [int(d) for d in str(num)]\n",
    "    sum=0\n",
    "    for i in list:\n",
    "        sum += i**3\n",
    "    return sum\n",
    "    \n",
    "num =int(input())\n",
    "k=sqcube(num)\n",
    "if k==num:\n",
    "    print(\"This is an armstrong number\")\n",
    "else:\n",
    "    print(\"this is not an armstrong number\")"
   ]
  },
  {
   "cell_type": "code",
   "execution_count": 36,
   "id": "0de6cd9d",
   "metadata": {},
   "outputs": [
    {
     "name": "stdout",
     "output_type": "stream",
     "text": [
      "123\n",
      "36\n"
     ]
    }
   ],
   "source": [
    "# find the sum of the cube of each digit\n",
    "print(sqcube(int(input())))"
   ]
  },
  {
   "cell_type": "code",
   "execution_count": 37,
   "id": "6b874b43",
   "metadata": {},
   "outputs": [
    {
     "name": "stdout",
     "output_type": "stream",
     "text": [
      "100 400\n",
      "153\n",
      "370\n",
      "371\n"
     ]
    }
   ],
   "source": [
    "#Python Program to Find Armstrong Number in an Interval\n",
    "a, b = map(int, input().split())\n",
    "for i in range(a, b+1):\n",
    "    if sqcube(i)==i:\n",
    "        print(i)"
   ]
  },
  {
   "cell_type": "code",
   "execution_count": 40,
   "id": "5ad1666c",
   "metadata": {},
   "outputs": [
    {
     "name": "stdout",
     "output_type": "stream",
     "text": [
      "10\n",
      "55.0\n"
     ]
    }
   ],
   "source": [
    "#Python Program to Find the Sum of Natural Number\n",
    "num3 = int(input())\n",
    "sum= num3*(num3+1)/2\n",
    "print(sum)"
   ]
  },
  {
   "cell_type": "code",
   "execution_count": null,
   "id": "f9055975",
   "metadata": {},
   "outputs": [],
   "source": [
    "#Python Program To Display Powers of 2 Using Anonymous Function \n"
   ]
  },
  {
   "cell_type": "code",
   "execution_count": 43,
   "id": "e01e34bb",
   "metadata": {},
   "outputs": [
    {
     "name": "stdout",
     "output_type": "stream",
     "text": [
      "enter a number a and find the numbers divisible by it in a range of 1 to 10013\n",
      "13\n",
      "26\n",
      "39\n",
      "52\n",
      "65\n",
      "78\n",
      "91\n"
     ]
    }
   ],
   "source": [
    "#Python Program to Find Numbers Divisible by Another Number\n",
    "n1 = int(input(\"enter a number a and find the numbers divisible by it in a range of 1 to 100\"))\n",
    "for i in range(n1, 101):\n",
    "    if i%n1==0:\n",
    "        print(i)"
   ]
  },
  {
   "cell_type": "code",
   "execution_count": 47,
   "id": "9329f9be",
   "metadata": {},
   "outputs": [
    {
     "name": "stdout",
     "output_type": "stream",
     "text": [
      "12\n",
      "00000None\n"
     ]
    }
   ],
   "source": [
    "#Python Program to Convert Decimal to Binary\n",
    "def decimaltobinary(n2):\n",
    "    \n",
    "    if n2>=1:\n",
    "        decimaltobinary(n2 // 2)\n",
    "    print(num%2, end='')\n",
    "    \n",
    "print(decimaltobinary(int(input())))"
   ]
  },
  {
   "cell_type": "code",
   "execution_count": null,
   "id": "300424f0",
   "metadata": {},
   "outputs": [],
   "source": [
    "#Python Program to Convert Decimal to Hexadecimal\n"
   ]
  },
  {
   "cell_type": "code",
   "execution_count": 5,
   "id": "9e6dad0e",
   "metadata": {},
   "outputs": [
    {
     "name": "stdout",
     "output_type": "stream",
     "text": [
      "d\n",
      "the ASCII vlaue of d is 100\n"
     ]
    }
   ],
   "source": [
    "#Python Program to Find ASCII Value of Character\n",
    "value = input()\n",
    "print(f\"the ASCII vlaue of {value} is\",ord(value))"
   ]
  }
 ],
 "metadata": {
  "kernelspec": {
   "display_name": "Python 3",
   "language": "python",
   "name": "python3"
  },
  "language_info": {
   "codemirror_mode": {
    "name": "ipython",
    "version": 3
   },
   "file_extension": ".py",
   "mimetype": "text/x-python",
   "name": "python",
   "nbconvert_exporter": "python",
   "pygments_lexer": "ipython3",
   "version": "3.8.8"
  }
 },
 "nbformat": 4,
 "nbformat_minor": 5
}
