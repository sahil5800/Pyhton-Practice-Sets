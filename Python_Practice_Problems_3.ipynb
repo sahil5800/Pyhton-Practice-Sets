{
 "cells": [
  {
   "cell_type": "code",
   "execution_count": 4,
   "id": "8e98ff7c",
   "metadata": {},
   "outputs": [
    {
     "name": "stdout",
     "output_type": "stream",
     "text": [
      "6\n",
      "6 * 1 =  6\n",
      "6 * 2 =  12\n",
      "6 * 3 =  18\n",
      "6 * 4 =  24\n",
      "6 * 5 =  30\n",
      "6 * 6 =  36\n",
      "6 * 7 =  42\n",
      "6 * 8 =  48\n",
      "6 * 9 =  54\n",
      "6 * 10 =  60\n"
     ]
    }
   ],
   "source": [
    "#WAP to print table of n, where n is entered by the user\n",
    "n=int(input())\n",
    "for i in range(1,11):\n",
    "    print(f\"{n} * {i} = \",n*i)\n",
    "    "
   ]
  },
  {
   "cell_type": "code",
   "execution_count": 5,
   "id": "a4d7a4ac",
   "metadata": {},
   "outputs": [
    {
     "name": "stdout",
     "output_type": "stream",
     "text": [
      "11\n",
      "66\n"
     ]
    }
   ],
   "source": [
    "#WAP to print sum of n natural numbers, where n is entered by the user\n",
    "sum=0\n",
    "for i in range(1,int(input())+1):\n",
    "    sum+=i\n",
    "print(sum)"
   ]
  },
  {
   "cell_type": "code",
   "execution_count": 10,
   "id": "a7cf3f8b",
   "metadata": {},
   "outputs": [
    {
     "name": "stdout",
     "output_type": "stream",
     "text": [
      "6\n",
      "720\n"
     ]
    }
   ],
   "source": [
    "#WAP to print the factorial of the given number, where number is entered by the user.\n",
    "n = int(input())\n",
    "ans = 1\n",
    "while n>0:\n",
    "    ans *= n\n",
    "    n -= 1\n",
    "print(ans)\n",
    "    \n",
    "    "
   ]
  },
  {
   "cell_type": "code",
   "execution_count": 11,
   "id": "db2bbeb6",
   "metadata": {},
   "outputs": [
    {
     "name": "stdout",
     "output_type": "stream",
     "text": [
      "put the number of enteries10\n",
      "1\n",
      "2\n",
      "3\n",
      "4\n",
      "5\n",
      "6\n",
      "7\n",
      "8\n",
      "9\n",
      "10\n",
      "5.5\n"
     ]
    }
   ],
   "source": [
    "#WAP to input sales of the month and calculate the average sales of that month and calculate the average sales of that month\n",
    "n = int(input(\"put the number of enteries\"))\n",
    "sum1 = 0\n",
    "for i in range(1, n+1):\n",
    "    sum1 += int(input())\n",
    "avg = sum1/n\n",
    "print(avg)\n",
    "    \n"
   ]
  },
  {
   "cell_type": "code",
   "execution_count": null,
   "id": "69700406",
   "metadata": {},
   "outputs": [],
   "source": []
  }
 ],
 "metadata": {
  "kernelspec": {
   "display_name": "Python 3",
   "language": "python",
   "name": "python3"
  },
  "language_info": {
   "codemirror_mode": {
    "name": "ipython",
    "version": 3
   },
   "file_extension": ".py",
   "mimetype": "text/x-python",
   "name": "python",
   "nbconvert_exporter": "python",
   "pygments_lexer": "ipython3",
   "version": "3.8.8"
  }
 },
 "nbformat": 4,
 "nbformat_minor": 5
}
