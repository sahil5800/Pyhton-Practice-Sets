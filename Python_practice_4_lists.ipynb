{
 "cells": [
  {
   "cell_type": "code",
   "execution_count": 6,
   "id": "de6b8c3d",
   "metadata": {},
   "outputs": [
    {
     "name": "stdout",
     "output_type": "stream",
     "text": [
      "[1, 2, 3, 4, 5, 6]\n"
     ]
    }
   ],
   "source": [
    "#inserting an element in the list\n",
    "list=[1,2,3,4,5]\n",
    "list.insert(len(list),6)\n",
    "print(list)"
   ]
  },
  {
   "cell_type": "code",
   "execution_count": 7,
   "id": "c6d75f76",
   "metadata": {},
   "outputs": [
    {
     "name": "stdout",
     "output_type": "stream",
     "text": [
      "[0, 1, 2, 3, 4, 5, 6]\n"
     ]
    }
   ],
   "source": [
    "list.insert(0, 0)\n",
    "print(list)"
   ]
  },
  {
   "cell_type": "code",
   "execution_count": 14,
   "id": "ad3eb339",
   "metadata": {},
   "outputs": [
    {
     "name": "stdout",
     "output_type": "stream",
     "text": [
      "[0, 1, 2, 5, 5, 3, 4, 5, 6]\n"
     ]
    }
   ],
   "source": [
    "list.insert(3, 5)\n",
    "print(list)"
   ]
  },
  {
   "cell_type": "code",
   "execution_count": 8,
   "id": "6579636d",
   "metadata": {},
   "outputs": [
    {
     "name": "stdout",
     "output_type": "stream",
     "text": [
      "[1, 2, 6, 4, 5, 3, 7, 8, 9]\n"
     ]
    }
   ],
   "source": [
    "#swapping two elements in a list\n",
    "def swap(list_name, pos1, pos2):\n",
    "    element=list_name[pos1]\n",
    "    list_name[pos1]=list_name[pos2]\n",
    "    list_name[pos2]=element\n",
    "    \n",
    "list1=[1,2,3,4,5,6,7,8,9]\n",
    "swap(list1, 2, 5)\n",
    "print(list1)\n",
    "    \n",
    "    "
   ]
  },
  {
   "cell_type": "code",
   "execution_count": 9,
   "id": "9fe78065",
   "metadata": {},
   "outputs": [
    {
     "name": "stdout",
     "output_type": "stream",
     "text": [
      "['a', 'b', 'c', 'f', 'e', 'd']\n"
     ]
    }
   ],
   "source": [
    "list2=['a','b','c','d','e','f']\n",
    "swap(list2, 3, 5)\n",
    "print(list2)"
   ]
  },
  {
   "cell_type": "code",
   "execution_count": 12,
   "id": "53891830",
   "metadata": {},
   "outputs": [
    {
     "name": "stdout",
     "output_type": "stream",
     "text": [
      "9\n"
     ]
    }
   ],
   "source": [
    "#finding the max of a list\n",
    "print(max(list1))"
   ]
  },
  {
   "cell_type": "code",
   "execution_count": 15,
   "id": "65117568",
   "metadata": {},
   "outputs": [
    {
     "name": "stdout",
     "output_type": "stream",
     "text": [
      "1\n"
     ]
    }
   ],
   "source": [
    "#find the min of a list\n",
    "print(min(list1))"
   ]
  },
  {
   "cell_type": "code",
   "execution_count": 16,
   "id": "ef4bdbae",
   "metadata": {},
   "outputs": [
    {
     "name": "stdout",
     "output_type": "stream",
     "text": [
      "[1, 2, 6, 4, 5, 3, 7, 8]\n"
     ]
    }
   ],
   "source": [
    "# deleting an element in the list\n",
    "list1.remove(9)\n",
    "print(list1)"
   ]
  },
  {
   "cell_type": "code",
   "execution_count": 17,
   "id": "69576607",
   "metadata": {},
   "outputs": [
    {
     "name": "stdout",
     "output_type": "stream",
     "text": [
      "[1, 2, 6, 4, 5, 7, 8]\n"
     ]
    }
   ],
   "source": [
    "list1.remove(3)\n",
    "print(list1)"
   ]
  },
  {
   "cell_type": "code",
   "execution_count": 22,
   "id": "83c61d27",
   "metadata": {},
   "outputs": [
    {
     "name": "stdout",
     "output_type": "stream",
     "text": [
      "[8, 7, 5, 4, 6, 2, 1]\n"
     ]
    }
   ],
   "source": [
    "#reversing a list\n",
    "print(list1[len(list1)::-1])"
   ]
  },
  {
   "cell_type": "code",
   "execution_count": 23,
   "id": "2d2ff600",
   "metadata": {},
   "outputs": [
    {
     "name": "stdout",
     "output_type": "stream",
     "text": [
      "[1, 2, 6, 4, 5, 7, 8]\n"
     ]
    }
   ],
   "source": [
    "#coping a list\n",
    "list2=[i for i in list1]\n",
    "print(list2)"
   ]
  },
  {
   "cell_type": "code",
   "execution_count": 24,
   "id": "a8fa37a1",
   "metadata": {},
   "outputs": [
    {
     "name": "stdout",
     "output_type": "stream",
     "text": [
      "33\n"
     ]
    }
   ],
   "source": [
    "#sum of elements in the list\n",
    "print(sum(list1))"
   ]
  },
  {
   "cell_type": "code",
   "execution_count": 26,
   "id": "e236be13",
   "metadata": {},
   "outputs": [
    {
     "name": "stdout",
     "output_type": "stream",
     "text": [
      "13440\n"
     ]
    }
   ],
   "source": [
    "#multiplying all the elements in list 1\n",
    "def multiply(list_name):\n",
    "    ans = 1\n",
    "    for i in list_name:\n",
    "        ans*=i\n",
    "        \n",
    "    return ans\n",
    "        \n",
    "print(multiply(list1))"
   ]
  },
  {
   "cell_type": "code",
   "execution_count": 28,
   "id": "881477c5",
   "metadata": {},
   "outputs": [
    {
     "name": "stdout",
     "output_type": "stream",
     "text": [
      "[1, 2, 4, 5, 6, 7, 8]\n",
      "7\n"
     ]
    }
   ],
   "source": [
    "# finding the second largest number in alist\n",
    "list1.sort()\n",
    "print(list1)\n",
    "print(list1[-2])"
   ]
  },
  {
   "cell_type": "code",
   "execution_count": null,
   "id": "611e24af",
   "metadata": {},
   "outputs": [],
   "source": []
  }
 ],
 "metadata": {
  "kernelspec": {
   "display_name": "Python 3",
   "language": "python",
   "name": "python3"
  },
  "language_info": {
   "codemirror_mode": {
    "name": "ipython",
    "version": 3
   },
   "file_extension": ".py",
   "mimetype": "text/x-python",
   "name": "python",
   "nbconvert_exporter": "python",
   "pygments_lexer": "ipython3",
   "version": "3.8.8"
  }
 },
 "nbformat": 4,
 "nbformat_minor": 5
}
