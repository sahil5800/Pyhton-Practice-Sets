{
 "cells": [
  {
   "cell_type": "code",
   "execution_count": 2,
   "id": "79f9d92f",
   "metadata": {},
   "outputs": [
    {
     "name": "stdout",
     "output_type": "stream",
     "text": [
      "0\n",
      "1\n",
      "2\n",
      "3\n",
      "4\n",
      "5\n",
      "6\n",
      "7\n",
      "8\n",
      "9\n",
      "10\n"
     ]
    }
   ],
   "source": [
    "# first 10 natural numbers using while loop\n",
    "k=0\n",
    "while k<=10:\n",
    "    print(k)\n",
    "    k+=1"
   ]
  },
  {
   "cell_type": "code",
   "execution_count": 5,
   "id": "a6c93c87",
   "metadata": {},
   "outputs": [
    {
     "name": "stdout",
     "output_type": "stream",
     "text": [
      "10\n",
      "55\n"
     ]
    }
   ],
   "source": [
    "# sum of all the numbers till last starting from 1\n",
    "last=int(input())\n",
    "sum=0\n",
    "for i in range(1, last+1):\n",
    "    sum+=i\n",
    "print(sum)"
   ]
  },
  {
   "cell_type": "code",
   "execution_count": 6,
   "id": "340d65b2",
   "metadata": {},
   "outputs": [
    {
     "name": "stdout",
     "output_type": "stream",
     "text": [
      "2\n",
      "4\n",
      "6\n",
      "8\n",
      "10\n",
      "12\n",
      "14\n",
      "16\n",
      "18\n",
      "20\n"
     ]
    }
   ],
   "source": [
    "k=1\n",
    "while k<=10:\n",
    "    print(2*k)\n",
    "    k+=1"
   ]
  },
  {
   "cell_type": "code",
   "execution_count": 10,
   "id": "e86d3bd1",
   "metadata": {},
   "outputs": [
    {
     "name": "stdout",
     "output_type": "stream",
     "text": [
      "15\n",
      "55\n",
      "75\n",
      "150\n"
     ]
    }
   ],
   "source": [
    "#Given a list, iterate it, and display numbers divisible by five, and if you find a number greater than 150, stop the loop iteration.\n",
    "list1 = [12, 15, 32, 42, 55, 75, 122, 132, 150, 180, 200]\n",
    "for i in list1:\n",
    "    if i%5==0 and i<=150:\n",
    "        print(i)\n",
    "    "
   ]
  },
  {
   "cell_type": "code",
   "execution_count": 13,
   "id": "c8e34b47",
   "metadata": {},
   "outputs": [
    {
     "name": "stdout",
     "output_type": "stream",
     "text": [
      "12345\n",
      "5\n"
     ]
    }
   ],
   "source": [
    "#\n",
    "number= int(input())\n",
    "print(len(str(number)))"
   ]
  },
  {
   "cell_type": "code",
   "execution_count": 7,
   "id": "e1a10b3f",
   "metadata": {},
   "outputs": [
    {
     "name": "stdout",
     "output_type": "stream",
     "text": [
      "50\n",
      "40\n",
      "30\n",
      "20\n",
      "10\n"
     ]
    }
   ],
   "source": [
    "#reversing a string using for loop\n",
    "list = [10, 20, 30, 40, 50]\n",
    "for i in list[-1::-1]:\n",
    "    print(i)"
   ]
  },
  {
   "cell_type": "code",
   "execution_count": 9,
   "id": "26ca13e7",
   "metadata": {},
   "outputs": [
    {
     "name": "stdout",
     "output_type": "stream",
     "text": [
      "-10\n",
      "-9\n",
      "-8\n",
      "-7\n",
      "-6\n",
      "-5\n",
      "-4\n",
      "-3\n",
      "-2\n",
      "-1\n"
     ]
    }
   ],
   "source": [
    "#Exercise 9: Display numbers from -10 to -1 using for loop\n",
    "for i in range(-10,0):\n",
    "    print(i)"
   ]
  },
  {
   "cell_type": "code",
   "execution_count": 10,
   "id": "26a82470",
   "metadata": {},
   "outputs": [
    {
     "name": "stdout",
     "output_type": "stream",
     "text": [
      "0\n",
      "1\n",
      "2\n",
      "3\n",
      "4\n",
      "done!\n"
     ]
    }
   ],
   "source": [
    "#Display a message “Done” after successful execution of for loop\n",
    "for i in range(5):\n",
    "    print(i)\n",
    "print(\"done!\")"
   ]
  },
  {
   "cell_type": "code",
   "execution_count": 16,
   "id": "81c007c7",
   "metadata": {},
   "outputs": [
    {
     "name": "stdout",
     "output_type": "stream",
     "text": [
      "25 50\n",
      "29\n",
      "31\n",
      "37\n",
      "41\n",
      "43\n",
      "47\n"
     ]
    }
   ],
   "source": [
    "#Write a program to display all prime numbers within a range\n",
    "a, b= map(int, input().split())\n",
    "for i in range(a, b+1):\n",
    "    prime=True\n",
    "    for k in range(2,i):\n",
    "        if i%k==0:\n",
    "            prime=False\n",
    "            break\n",
    "        else:\n",
    "            prime=True\n",
    "    if prime:\n",
    "        print(i)\n",
    "    "
   ]
  },
  {
   "cell_type": "code",
   "execution_count": 17,
   "id": "acad4bb7",
   "metadata": {},
   "outputs": [
    {
     "name": "stdout",
     "output_type": "stream",
     "text": [
      "5\n",
      "120\n"
     ]
    }
   ],
   "source": [
    "#Write a loop to find the factorial of any number\n",
    "num= int(input())\n",
    "answer = 1\n",
    "while num>=1:\n",
    "    answer*=num\n",
    "    num-=1\n",
    "print(answer)"
   ]
  },
  {
   "cell_type": "code",
   "execution_count": 21,
   "id": "6378712a",
   "metadata": {},
   "outputs": [
    {
     "name": "stdout",
     "output_type": "stream",
     "text": [
      "76542\n",
      "0\n"
     ]
    }
   ],
   "source": [
    "#Reverse a given integer number\n",
    "number = int(input())\n",
    "reverse_number = 0\n",
    "while number>0:\n",
    "    reminder = num%10\n",
    "    reverse_number = (reverse_number*10) + reminder\n",
    "    number= number//10\n",
    "print(reverse_number)\n",
    "    "
   ]
  },
  {
   "cell_type": "code",
   "execution_count": 1,
   "id": "da0b69a1",
   "metadata": {},
   "outputs": [
    {
     "name": "stdout",
     "output_type": "stream",
     "text": [
      "20\n",
      "40\n",
      "60\n",
      "80\n",
      "100\n"
     ]
    }
   ],
   "source": [
    "#Use a loop to display elements from a given list that are present at odd index positions\n",
    "my_list = [10, 20, 30, 40, 50, 60, 70, 80, 90, 100]\n",
    "for i in range(len(my_list)):\n",
    "    if i%2==0:\n",
    "        continue\n",
    "    else:\n",
    "        print(my_list[i])"
   ]
  },
  {
   "cell_type": "code",
   "execution_count": 3,
   "id": "2434640c",
   "metadata": {},
   "outputs": [
    {
     "name": "stdout",
     "output_type": "stream",
     "text": [
      "6\n",
      "1\n",
      "8\n",
      "27\n",
      "64\n",
      "125\n",
      "216\n"
     ]
    }
   ],
   "source": [
    "#Display the cube of the number up to a given integer\n",
    "num = int(input())\n",
    "for i in range(1,num+1):\n",
    "    print(i**3)\n",
    "    \n",
    "    "
   ]
  },
  {
   "cell_type": "code",
   "execution_count": 4,
   "id": "bde88c00",
   "metadata": {},
   "outputs": [
    {
     "name": "stdout",
     "output_type": "stream",
     "text": [
      "5\n",
      "24690\n"
     ]
    }
   ],
   "source": [
    "#Find the sum of the series 2 +22 + 222 + 2222 + .. n terms\n",
    "num = int(input())\n",
    "start=2\n",
    "sum=0\n",
    "k = 0\n",
    "while k < num:\n",
    "    sum += start\n",
    "    start= (start*10)+2\n",
    "    k+=1\n",
    "print(sum)"
   ]
  },
  {
   "cell_type": "code",
   "execution_count": null,
   "id": "ca474565",
   "metadata": {},
   "outputs": [],
   "source": []
  }
 ],
 "metadata": {
  "kernelspec": {
   "display_name": "Python 3",
   "language": "python",
   "name": "python3"
  }
 },
 "nbformat": 4,
 "nbformat_minor": 5
}
